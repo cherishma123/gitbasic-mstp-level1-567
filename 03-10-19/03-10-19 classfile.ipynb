{
 "cells": [
  {
   "cell_type": "markdown",
   "metadata": {},
   "source": [
    "## File handling in python\n",
    "## file: collection of data\n",
    "####  read---r\n",
    "#### write---w\n",
    "####  append--a\n",
    "#### read&write---r+\n",
    "#### write&read---w+\n",
    "####  append&read---a+\n",
    "#### Exclusive write---x"
   ]
  },
  {
   "cell_type": "markdown",
   "metadata": {},
   "source": [
    "##Syntax for file open\n",
    "#file opening\n",
    "#file=open(\"sample.txt\",\"mode\")"
   ]
  },
  {
   "cell_type": "code",
   "execution_count": 4,
   "metadata": {},
   "outputs": [],
   "source": [
    "# create a file and add some content\n",
    "f=open(\"data.txt\",'w')\n",
    "f.write(\"welcome python\")\n",
    "f.write(\"\\ncherishma\\n\")\n",
    "f.close()"
   ]
  },
  {
   "cell_type": "code",
   "execution_count": 5,
   "metadata": {},
   "outputs": [
    {
     "name": "stdout",
     "output_type": "stream",
     "text": [
      "welcome python\n",
      "cherishma\n",
      "\n"
     ]
    }
   ],
   "source": [
    "# print content of a file\n",
    "filedata=open(\"data.txt\",'r')\n",
    "f1=filedata.read()\n",
    "print(f1)\n",
    "#filedata.close("
   ]
  },
  {
   "cell_type": "code",
   "execution_count": 8,
   "metadata": {},
   "outputs": [
    {
     "name": "stdout",
     "output_type": "stream",
     "text": [
      "welcome python\n",
      "cherishma\n",
      "\n"
     ]
    }
   ],
   "source": [
    "# function to print data of a file\n",
    "def read_content(filepath):\n",
    "    filepath=open(\"data.txt\",'r')\n",
    "    data=filepath.read()\n",
    "    print(data)\n",
    "filepath=\"data.txt\"\n",
    "read_content(filepath)\n",
    "    "
   ]
  },
  {
   "cell_type": "code",
   "execution_count": 2,
   "metadata": {},
   "outputs": [],
   "source": [
    "# function to write data to a file\n",
    "def write_data(filepath):\n",
    "    filepath=open(\"data.txt\",'w')\n",
    "    filepath.write(\"apssdc mstp\")\n",
    "    filepath.close()\n",
    "filepath=\"data.txt\"\n",
    "write_data(filepath)"
   ]
  },
  {
   "cell_type": "code",
   "execution_count": 4,
   "metadata": {},
   "outputs": [],
   "source": [
    "# Function to add a new content to a file\n",
    "def add_data(filepath):\n",
    "    filepath=open(\"data.txt\",'a')\n",
    "    filepath.write(\"\\nworld hello\\n\")\n",
    "    filepath.close()\n",
    "filepath=\"data.txt\"\n",
    "add_data(filepath)"
   ]
  },
  {
   "cell_type": "code",
   "execution_count": 6,
   "metadata": {},
   "outputs": [
    {
     "name": "stdout",
     "output_type": "stream",
     "text": [
      "apssdc mstp\n",
      "world hello\n",
      "\n"
     ]
    }
   ],
   "source": [
    "def read_filecontent(filepath):\n",
    "    filepath=open(\"data.txt\",'r')\n",
    "    data=filepath.read()\n",
    "    print(data)\n",
    "filepath=\"data.txt\"\n",
    "read_filecontent(filepath)\n",
    "    "
   ]
  },
  {
   "cell_type": "code",
   "execution_count": 7,
   "metadata": {},
   "outputs": [
    {
     "name": "stdout",
     "output_type": "stream",
     "text": [
      "apssdc mstp\n",
      "\n"
     ]
    }
   ],
   "source": [
    "f=open(\"data.txt\",'r')\n",
    "x=f.readline()           # to print the first line\n",
    "print(x)"
   ]
  },
  {
   "cell_type": "code",
   "execution_count": 11,
   "metadata": {},
   "outputs": [
    {
     "name": "stdout",
     "output_type": "stream",
     "text": [
      "['apssdc mstp\\n', 'world hello\\n']\n"
     ]
    }
   ],
   "source": [
    "f=open(\"data.txt\",'r')\n",
    "z=f.readlines()  ---->to print all the lines but it will print in ists\n",
    "print(z)"
   ]
  },
  {
   "cell_type": "code",
   "execution_count": 18,
   "metadata": {},
   "outputs": [
    {
     "name": "stdout",
     "output_type": "stream",
     "text": [
      "apssdc mstp\n",
      " world hello\n",
      " "
     ]
    }
   ],
   "source": [
    "# Acessing the elements line by line\n",
    "def get_elements(filepath):\n",
    "    with open(\"data.txt\",'r')as file:\n",
    "        f=file.readlines()        ------>to print the line by line\n",
    "        for i in f: \n",
    "            print(i,end=\" \")\n",
    "filepath=\"data.txt\"\n",
    "get_elements(filepath)                 "
   ]
  },
  {
   "cell_type": "code",
   "execution_count": 23,
   "metadata": {},
   "outputs": [
    {
     "name": "stdout",
     "output_type": "stream",
     "text": [
      "2\n"
     ]
    }
   ],
   "source": [
    "# Lines count\n",
    "def func():\n",
    "    count=0\n",
    "    with open(\"data.txt\",'r')as file:\n",
    "        f=file.readlines()\n",
    "        for i in f:\n",
    "            count=count+1\n",
    "        print(count)\n",
    "func()"
   ]
  },
  {
   "cell_type": "code",
   "execution_count": 2,
   "metadata": {},
   "outputs": [
    {
     "name": "stdout",
     "output_type": "stream",
     "text": [
      "24\n"
     ]
    }
   ],
   "source": [
    "def char_count():\n",
    "    char=0\n",
    "    with open(\"data.txt\",'r')as file:\n",
    "        f=file.read()\n",
    "        for i in f:\n",
    "                char=char+1\n",
    "        print(char)\n",
    "char_count()\n"
   ]
  },
  {
   "cell_type": "code",
   "execution_count": 1,
   "metadata": {},
   "outputs": [
    {
     "ename": "SyntaxError",
     "evalue": "EOL while scanning string literal (<ipython-input-1-b32a603269f8>, line 3)",
     "output_type": "error",
     "traceback": [
      "\u001b[1;36m  File \u001b[1;32m\"<ipython-input-1-b32a603269f8>\"\u001b[1;36m, line \u001b[1;32m3\u001b[0m\n\u001b[1;33m    with open(\"filename,'r')as file:\u001b[0m\n\u001b[1;37m                                    ^\u001b[0m\n\u001b[1;31mSyntaxError\u001b[0m\u001b[1;31m:\u001b[0m EOL while scanning string literal\n"
     ]
    }
   ],
   "source": [
    "def word_count(filename):\n",
    "    char=0\n",
    "    with open(\"filename,'r')as file:\n",
    "        f=file.read()\n",
    "        f1=f.split()\n",
    "        print(len(f1))\n",
    "wordcount(\"data.txt\")\n"
   ]
  },
  {
   "cell_type": "code",
   "execution_count": null,
   "metadata": {},
   "outputs": [],
   "source": []
  }
 ],
 "metadata": {
  "kernelspec": {
   "display_name": "Python 3",
   "language": "python",
   "name": "python3"
  },
  "language_info": {
   "codemirror_mode": {
    "name": "ipython",
    "version": 3
   },
   "file_extension": ".py",
   "mimetype": "text/x-python",
   "name": "python",
   "nbconvert_exporter": "python",
   "pygments_lexer": "ipython3",
   "version": "3.7.3"
  }
 },
 "nbformat": 4,
 "nbformat_minor": 2
}
