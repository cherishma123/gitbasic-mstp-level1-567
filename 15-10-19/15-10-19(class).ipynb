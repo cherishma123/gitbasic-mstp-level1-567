{
 "cells": [
  {
   "cell_type": "code",
   "execution_count": 68,
   "metadata": {},
   "outputs": [],
   "source": [
    "#file creation with some content\n",
    "filepath=\"content.txt\"\n",
    "def create(filepath):\n",
    "    with open(filepath,'w') as f:\n",
    "        f.write(\"hai\\n hlo \\n welcome to my world\")\n",
    "create(filepath)"
   ]
  },
  {
   "cell_type": "code",
   "execution_count": 3,
   "metadata": {},
   "outputs": [
    {
     "name": "stdout",
     "output_type": "stream",
     "text": [
      "hai\n",
      " hlo \n",
      " welcome to my world\n"
     ]
    }
   ],
   "source": [
    "#reading data\n",
    "filepath=\"content.txt\"\n",
    "def read(filepath):\n",
    "    with open(filepath,'r') as f:\n",
    "        f1=f.read()\n",
    "        print(f1)\n",
    "read(filepath)\n"
   ]
  },
  {
   "cell_type": "code",
   "execution_count": null,
   "metadata": {},
   "outputs": [],
   "source": []
  },
  {
   "cell_type": "code",
   "execution_count": 47,
   "metadata": {},
   "outputs": [],
   "source": [
    "#student marks genaration\n",
    "filepath=\"studentmarks.txt\"\n",
    "import random\n",
    "def marks(filepath,n):\n",
    "    with open(filepath,'w') as f:\n",
    "        for i in range(n):\n",
    "            f.write(str(random.randint(1,100))+'\\n')\n",
    "marks(filepath,50)"
   ]
  },
  {
   "cell_type": "code",
   "execution_count": 48,
   "metadata": {},
   "outputs": [
    {
     "name": "stdout",
     "output_type": "stream",
     "text": [
      "2417\n",
      "50\n",
      "48\n"
     ]
    }
   ],
   "source": [
    "#class avg percentage\n",
    "filepath=\"studentmarks.txt\"\n",
    "def classavg(filepath):\n",
    "    s=0\n",
    "    c=0\n",
    "    with open(filepath,'r') as f:\n",
    "        f1=f.read()\n",
    "        l=f1.split()\n",
    "        for i in l:\n",
    "            s=s+int(i)\n",
    "            c=c+1\n",
    "        avg=s//c\n",
    "        print(s)\n",
    "        print(c)\n",
    "    print(avg)\n",
    "classavg(filepath)\n",
    "    \n",
    "    \n"
   ]
  },
  {
   "cell_type": "code",
   "execution_count": 55,
   "metadata": {},
   "outputs": [
    {
     "name": "stdout",
     "output_type": "stream",
     "text": [
      "50\n",
      "56.00000000000001\n"
     ]
    }
   ],
   "source": [
    "#class pass percentage\n",
    "filepath=\"studentmarks.txt\"\n",
    "def classpass(filepath):\n",
    "    passed_count=0\n",
    "    total_count=0\n",
    "    with open(filepath,'r') as f:\n",
    "        f1=f.read()\n",
    "        for i in f1.split():\n",
    "            total_count+=1\n",
    "            if int(i)>=35:\n",
    "                passed_count+=1\n",
    "        print(total_count)\n",
    "        print(passed_count/total_count*100)\n",
    "classpass(filepath)\n",
    "        \n",
    "    "
   ]
  },
  {
   "cell_type": "code",
   "execution_count": 52,
   "metadata": {},
   "outputs": [
    {
     "name": "stdout",
     "output_type": "stream",
     "text": [
      "44.0\n"
     ]
    }
   ],
   "source": [
    "#class fail percentage\n",
    "filepath=\"studentmarks.txt\"\n",
    "def classfail(filepath):\n",
    "    c=0\n",
    "    with open(filepath,'r') as f:\n",
    "        f1=f.read()\n",
    "        l=f1.split()\n",
    "        for i in l:\n",
    "            if int(i)<=35:\n",
    "                c=c+1\n",
    "    print(c/50*100)\n",
    "classfail(filepath)\n",
    "        "
   ]
  },
  {
   "cell_type": "code",
   "execution_count": 60,
   "metadata": {},
   "outputs": [
    {
     "name": "stdout",
     "output_type": "stream",
     "text": [
      "99\n",
      "90\n",
      "99\n",
      "98\n",
      "91\n",
      "96\n",
      "97\n"
     ]
    }
   ],
   "source": [
    "#highest marks\n",
    "filepath=\"studentmarks.txt\"\n",
    "def classhighest(filepath):\n",
    "    with open(filepath,'r') as f:\n",
    "        f1=f.read()\n",
    "        for i in f1.split():\n",
    "            if int(i)>=90:\n",
    "                print(int(i))\n",
    "classhighest(filepath)\n"
   ]
  },
  {
   "cell_type": "code",
   "execution_count": 59,
   "metadata": {},
   "outputs": [
    {
     "name": "stdout",
     "output_type": "stream",
     "text": [
      "19\n",
      "18\n",
      "5\n",
      "15\n",
      "1\n",
      "7\n",
      "8\n",
      "19\n",
      "13\n",
      "12\n",
      "19\n",
      "16\n",
      "20\n",
      "3\n",
      "2\n",
      "6\n",
      "4\n"
     ]
    }
   ],
   "source": [
    "#lowhest marks\n",
    "filepath=\"studentmarks.txt\"\n",
    "def classlowhest(filepath):\n",
    "    with open(filepath,'r') as f:\n",
    "        f1=f.read()\n",
    "        for i in f1.split():\n",
    "            if int(i)<=20:\n",
    "                print(int(i))\n",
    "classlowhest(filepath)\n"
   ]
  },
  {
   "cell_type": "code",
   "execution_count": 3,
   "metadata": {},
   "outputs": [
    {
     "name": "stdout",
     "output_type": "stream",
     "text": [
      "34.0\n"
     ]
    }
   ],
   "source": [
    "#first class percentage\n",
    "filepath=\"studentmarks.txt\"\n",
    "def firstclass(filepath):\n",
    "    c=0\n",
    "    with open(filepath,'r') as f:\n",
    "        f1=f.read()\n",
    "        l=f1.split()\n",
    "        for i in l:\n",
    "            if int(i)>=75:\n",
    "                c=c+1\n",
    "    print(c/50*100)\n",
    "firstclass(filepath)\n",
    "       "
   ]
  },
  {
   "cell_type": "code",
   "execution_count": 2,
   "metadata": {},
   "outputs": [
    {
     "name": "stdout",
     "output_type": "stream",
     "text": [
      "12.0\n"
     ]
    }
   ],
   "source": [
    "#second class percentage\n",
    "filepath=\"studentmarks.txt\"\n",
    "def secondclass(filepath):\n",
    "    c=0\n",
    "    with open(filepath,'r') as f:\n",
    "        f1=f.read()\n",
    "        l=f1.split()\n",
    "        for i in l:\n",
    "            if int(i)>=55 and int(i)<=75:\n",
    "                c=c+1\n",
    "    print(c/50*100)\n",
    "secondclass(filepath)\n",
    "       "
   ]
  },
  {
   "cell_type": "code",
   "execution_count": 1,
   "metadata": {},
   "outputs": [
    {
     "name": "stdout",
     "output_type": "stream",
     "text": [
      "10.0\n"
     ]
    }
   ],
   "source": [
    "#third class percentage\n",
    "filepath=\"studentmarks.txt\"\n",
    "def thirdclass(filepath):\n",
    "    c=0\n",
    "    with open(filepath,'r') as f:\n",
    "        f1=f.read()\n",
    "        l=f1.split()\n",
    "        for i in l:\n",
    "            if int(i)>=35 and int(i)<=55:\n",
    "                c=c+1\n",
    "    print(c/50*100)\n",
    "thirdclass(filepath)\n",
    "       "
   ]
  },
  {
   "cell_type": "code",
   "execution_count": 69,
   "metadata": {},
   "outputs": [
    {
     "name": "stdout",
     "output_type": "stream",
     "text": [
      "['hai', ' hlo ', ' welcome to my world']\n",
      "hai : 1\n",
      " hlo  : 1\n",
      " welcome to my world : 1\n"
     ]
    }
   ],
   "source": [
    "#frequency of words using set\n",
    "filepath=\"content.txt\"\n",
    "def frequencyofwords(filepath):\n",
    "    with open(filepath,'r') as f:\n",
    "        f1=f.read()\n",
    "        l=f1.split('\\n')\n",
    "        print(l)\n",
    "        for i in set(l):\n",
    "            print(i,':',l.count(i))\n",
    "frequencyofwords(filepath)\n",
    "            \n",
    "        "
   ]
  },
  {
   "cell_type": "code",
   "execution_count": 72,
   "metadata": {},
   "outputs": [
    {
     "name": "stdout",
     "output_type": "stream",
     "text": [
      "['hai', ' hlo ', ' welcome to my world']\n",
      "{'hai': 1, ' hlo ': 1, ' welcome to my world': 1}\n"
     ]
    }
   ],
   "source": [
    "#frequency of words using dictionaries\n",
    "filepath=\"content.txt\"\n",
    "def frequencyofwords(filepath):\n",
    "    d={}\n",
    "    with open(filepath,'r') as f:\n",
    "        f1=f.read() #string with individual character\n",
    "        l=f1.split('\\n') #list\n",
    "        print(l)\n",
    "        for i in set(l):\n",
    "            d[i]=l.count(i)\n",
    "    print(d)\n",
    "frequencyofwords(filepath)\n",
    "            "
   ]
  },
  {
   "cell_type": "code",
   "execution_count": 73,
   "metadata": {},
   "outputs": [
    {
     "name": "stdout",
     "output_type": "stream",
     "text": [
      "Help on method_descriptor:\n",
      "\n",
      "replace(self, old, new, count=-1, /)\n",
      "    Return a copy with all occurrences of substring old replaced by new.\n",
      "    \n",
      "      count\n",
      "        Maximum number of occurrences to replace.\n",
      "        -1 (the default value) means replace all occurrences.\n",
      "    \n",
      "    If the optional argument count is given, only the first count occurrences are\n",
      "    replaced.\n",
      "\n"
     ]
    }
   ],
   "source": [
    "help(str.replace)\n"
   ]
  },
  {
   "cell_type": "code",
   "execution_count": 79,
   "metadata": {},
   "outputs": [
    {
     "name": "stdout",
     "output_type": "stream",
     "text": [
      "hai\n",
      " hlo \n",
      " welcome to my world hai\n",
      " hlo \n",
      " welcome to lucky world "
     ]
    }
   ],
   "source": [
    "#replace a data to a new data\n",
    "filepath=\"content.txt\"\n",
    "def findreplace(filepath):\n",
    "    with open(filepath,'r') as f:\n",
    "        f1=f.read()\n",
    "        s=f1.replace(\"my\",\"lucky\")\n",
    "    print(f1,end=\" \")\n",
    "    print(s,end=\" \")\n",
    "findreplace(filepath)"
   ]
  },
  {
   "cell_type": "code",
   "execution_count": null,
   "metadata": {},
   "outputs": [],
   "source": []
  }
 ],
 "metadata": {
  "kernelspec": {
   "display_name": "Python 3",
   "language": "python",
   "name": "python3"
  },
  "language_info": {
   "codemirror_mode": {
    "name": "ipython",
    "version": 3
   },
   "file_extension": ".py",
   "mimetype": "text/x-python",
   "name": "python",
   "nbconvert_exporter": "python",
   "pygments_lexer": "ipython3",
   "version": "3.7.3"
  }
 },
 "nbformat": 4,
 "nbformat_minor": 2
}
