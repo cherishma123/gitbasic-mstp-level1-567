{
 "cells": [
  {
   "cell_type": "markdown",
   "metadata": {},
   "source": [
    "### Function to print all the prime numbers in a given range"
   ]
  },
  {
   "cell_type": "code",
   "execution_count": 11,
   "metadata": {},
   "outputs": [
    {
     "name": "stdout",
     "output_type": "stream",
     "text": [
      "20\n",
      "30\n",
      "23 , 29 , "
     ]
    }
   ],
   "source": [
    "def prime(lb):\n",
    "    count=0\n",
    "    for i in range(1,lb+1):\n",
    "         if lb%i==0:\n",
    "            count=count+1\n",
    "    if count==2:\n",
    "        print(i,end=\" , \")\n",
    "lb=int(input())\n",
    "ub=int(input())\n",
    "for j in range(lb,ub+1):\n",
    "    prime(j)\n",
    "\n",
    "    \n",
    "            "
   ]
  },
  {
   "cell_type": "code",
   "execution_count": 12,
   "metadata": {},
   "outputs": [
    {
     "name": "stdout",
     "output_type": "stream",
     "text": [
      "20\n",
      "30\n",
      "23 29 "
     ]
    }
   ],
   "source": [
    "def prime(lb):\n",
    "    count=0\n",
    "    for i in range(1,lb+1):\n",
    "        if lb%i==0:\n",
    "            count=count+1\n",
    "    if count==2:\n",
    "        return 1\n",
    "    else:\n",
    "        return 0\n",
    "lb=int(input())\n",
    "ub=int(input())\n",
    "for j in range(lb,ub+1):\n",
    "    if prime(j)==1:\n",
    "        print(j,end=\" \")\n"
   ]
  },
  {
   "cell_type": "markdown",
   "metadata": {},
   "source": []
  },
  {
   "cell_type": "code",
   "execution_count": 15,
   "metadata": {},
   "outputs": [
    {
     "name": "stdout",
     "output_type": "stream",
     "text": [
      "enter the number:1234\n",
      "the sum of digits of number is 4\n",
      "the sum of digits of number is 7\n",
      "the sum of digits of number is 9\n",
      "the sum of digits of number is 10\n"
     ]
    }
   ],
   "source": [
    "num=int(int(input(\"enter the number:\")))\n",
    "sum=0\n",
    "while num>0:\n",
    "    d=num%10\n",
    "    num=num//10\n",
    "    sum+=d\n",
    "    print(\"the sum of digits of number is\",sum)"
   ]
  },
  {
   "cell_type": "code",
   "execution_count": 20,
   "metadata": {},
   "outputs": [
    {
     "name": "stdout",
     "output_type": "stream",
     "text": [
      "8\n",
      "even\n"
     ]
    }
   ],
   "source": [
    "def even(lb):\n",
    "    count=0\n",
    "    for i in range(1,lb+1):\n",
    "        if lb%2==0:\n",
    "            count=count+1\n",
    "        if count==2:\n",
    "            print(\"even\")\n",
    "lb=int(input())\n",
    "even(i)   "
   ]
  },
  {
   "cell_type": "code",
   "execution_count": 21,
   "metadata": {},
   "outputs": [
    {
     "name": "stdout",
     "output_type": "stream",
     "text": [
      "153\n",
      "not a armstrong\n",
      "not a armstrong\n",
      "armstrong\n"
     ]
    }
   ],
   "source": [
    "def armstrong(a):\n",
    "    sum=0\n",
    "    temp=a\n",
    "    while temp>0:\n",
    "        n=temp%10\n",
    "        sum+=n**3\n",
    "        temp//=10\n",
    "        if a==sum:\n",
    "            print(\"armstrong\")\n",
    "        else:\n",
    "            print(\"not a armstrong\")\n",
    "a=int(input())\n",
    "armstrong(a)\n",
    "            "
   ]
  },
  {
   "cell_type": "code",
   "execution_count": null,
   "metadata": {},
   "outputs": [],
   "source": [
    "def perfect(n):\n",
    "    sum=0\n",
    "    for i in range(1,n):\n",
    "        if(n%i==0):\n",
    "            sum=sum+1\n",
    "            print(sum)\n",
    "    if(sum==n):\n",
    "            print(\"perfect\")\n",
    "    else:\n",
    "            print(\"not perfect\")\n",
    "n=int(input())\n",
    "perfect(n)\n"
   ]
  }
 ],
 "metadata": {
  "kernelspec": {
   "display_name": "Python 3",
   "language": "python",
   "name": "python3"
  },
  "language_info": {
   "codemirror_mode": {
    "name": "ipython",
    "version": 3
   },
   "file_extension": ".py",
   "mimetype": "text/x-python",
   "name": "python",
   "nbconvert_exporter": "python",
   "pygments_lexer": "ipython3",
   "version": "3.7.3"
  }
 },
 "nbformat": 4,
 "nbformat_minor": 2
}
