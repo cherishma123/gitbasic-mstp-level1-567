{
 "cells": [
  {
   "cell_type": "markdown",
   "metadata": {},
   "source": [
    "## Regular Expressions"
   ]
  },
  {
   "cell_type": "code",
   "execution_count": null,
   "metadata": {},
   "outputs": [],
   "source": [
    "1.^abc :beginning of the string\n",
    "2.abc:that matches the exact character sequence anywhere in the string  \n",
    "3.abc$:end of the string\n",
    "4.a|b: either a or b  ^a[a-z]|[A-Z]s$\n",
    "5.^abc[abc$(at the beginning or at the end of the string) \n",
    "6.ab{2,4}c --->^a[a-z]{2}[A-Z]{3}s\n",
    "7.ab{2,}c----->a can be repeated b should be two times\n",
    "8.ab*c----->an a followed any number(zero or more)of b's followed by c\n",
    "9.ab+c---> an a followed by one or more b's followed by a c\n",
    "10.       "
   ]
  },
  {
   "cell_type": "code",
   "execution_count": null,
   "metadata": {},
   "outputs": [],
   "source": [
    "^([0-9]|[a-z]|[A-Z])([0-9]|[a-z]|[A-Z]|[_]){6,14}([0-9]|[a-z])@[a-z]{2,10}[.][a-z]{2,4}$'"
   ]
  },
  {
   "cell_type": "markdown",
   "metadata": {},
   "source": [
    "## Phone number validation"
   ]
  },
  {
   "cell_type": "code",
   "execution_count": 4,
   "metadata": {},
   "outputs": [
    {
     "name": "stdout",
     "output_type": "stream",
     "text": [
      "1\n",
      "1\n",
      "1\n"
     ]
    }
   ],
   "source": [
    "# ^[0][6-9][0-9]{9}$ 10 digit number starting with zero\n",
    "# ^+91[6789][0-9]{9}$--- 10 digit number starting with 91\n",
    "# ^[6-9][0-9]{9}$\n",
    "import re\n",
    "def phoneno(no):\n",
    "    pattern='^[+][9][1][6789][0-9]{9}$|^[6-9][0-9]{9}$|^[0][6-9][0-9]{9}$'\n",
    "    if re.match(pattern,no):\n",
    "        return 1\n",
    "    else:\n",
    "        return 0\n",
    "print(phoneno(\"7382416757\"))\n",
    "print(phoneno(\"+917382416757\"))\n",
    "print(phoneno(\"7382416757\"))        "
   ]
  },
  {
   "cell_type": "markdown",
   "metadata": {},
   "source": [
    "## Email validation"
   ]
  },
  {
   "cell_type": "code",
   "execution_count": 3,
   "metadata": {},
   "outputs": [
    {
     "name": "stdout",
     "output_type": "stream",
     "text": [
      "1\n",
      "1\n",
      "1\n"
     ]
    }
   ],
   "source": [
    "import re\n",
    "def email(n):\n",
    "    a='^([0-9]|[a-z]|[A-Z])([0-9]|[a-z]|[A-Z]|[_]){6,14}([0-9]|[a-z])@[a-z]{2,10}[.][a-z]{2,4}$'\n",
    "    if re.match(a,n):\n",
    "        return 1\n",
    "    else:\n",
    "        return 0\n",
    "print(email(\"cherishmamaraka9@gmail.com\"))    \n",
    "print(email(\"chandureddy8500@gmail.com\"))    \n",
    "print(email(\"cherishmareddy10@gmail.com\"))   \n",
    "    \n",
    "    \n"
   ]
  },
  {
   "cell_type": "markdown",
   "metadata": {},
   "source": [
    "## ADD CONTACT"
   ]
  },
  {
   "cell_type": "code",
   "execution_count": 8,
   "metadata": {},
   "outputs": [
    {
     "data": {
      "text/plain": [
       "{'cherry': ['7382416757', 'cherishmamaraka9@gmail.com'],\n",
       " 'chandu': ['8106177301', 'chandureddy8500@gmail.com'],\n",
       " 'chaithu': ['8884043518', 'chaithanya88@gmail.com']}"
      ]
     },
     "execution_count": 8,
     "metadata": {},
     "output_type": "execute_result"
    }
   ],
   "source": [
    "\n",
    "\n",
    "contact={'cherry':[\"7382416757\",\"cherishmamaraka9@gmail.com\"]}\n",
    "def addcontact(name,l):\n",
    "    if name not in contact:\n",
    "        no=l[0]\n",
    "        id=l[1]\n",
    "        if phoneno(no)==1:\n",
    "            if email(id)==1:\n",
    "                contact[name]=l\n",
    "        else:\n",
    "            print(\"enter a valid no and emailid\")\n",
    "    else:\n",
    "        print(\"contact already exits\")\n",
    "addcontact(\"chandu\",[\"8106177301\",\"chandureddy8500@gmail.com\"])              \n",
    "addcontact(\"chaithu\",[\"8884043518\",\"chaithanya88@gmail.com\"])      \n",
    "contact\n",
    "\n"
   ]
  },
  {
   "cell_type": "code",
   "execution_count": 10,
   "metadata": {},
   "outputs": [
    {
     "name": "stdout",
     "output_type": "stream",
     "text": [
      "phone verified successfully\n",
      "email verified successfully\n",
      "phone verified successfully\n",
      "email verified successfully\n"
     ]
    },
    {
     "data": {
      "text/plain": [
       "{'cherry': ['7382416757', 'cherishmamaraka9@gmail.com'],\n",
       " 'chandu': ['8106177301', 'chandureddy8500@gmail.com'],\n",
       " 'chaithu': ['8884043518', 'chaithanya88@gmail.com']}"
      ]
     },
     "execution_count": 10,
     "metadata": {},
     "output_type": "execute_result"
    }
   ],
   "source": [
    "contact={'cherry':[\"7382416757\",\"cherishmamaraka9@gmail.com\"]}\n",
    "def addcontact(name,l):\n",
    "    if name not in contact:\n",
    "        no=l[0]\n",
    "        id=l[1]\n",
    "        if phoneno(no)==1:\n",
    "            print(\"phone verified successfully\")\n",
    "            if email(id)==1:\n",
    "                contact[name]=l\n",
    "                print(\"email verified successfully\")\n",
    "                contact[name]=l\n",
    "        else:\n",
    "            print(\"enter a valid no and emailid\")\n",
    "    else:\n",
    "        print(\"contact already exits\")\n",
    "addcontact(\"chandu\",[\"8106177301\",\"chandureddy8500@gmail.com\"])              \n",
    "addcontact(\"chaithu\",[\"8884043518\",\"chaithanya88@gmail.com\"])      \n",
    "contact\n",
    "\n"
   ]
  },
  {
   "cell_type": "code",
   "execution_count": null,
   "metadata": {},
   "outputs": [],
   "source": []
  }
 ],
 "metadata": {
  "kernelspec": {
   "display_name": "Python 3",
   "language": "python",
   "name": "python3"
  },
  "language_info": {
   "codemirror_mode": {
    "name": "ipython",
    "version": 3
   },
   "file_extension": ".py",
   "mimetype": "text/x-python",
   "name": "python",
   "nbconvert_exporter": "python",
   "pygments_lexer": "ipython3",
   "version": "3.7.3"
  }
 },
 "nbformat": 4,
 "nbformat_minor": 2
}
