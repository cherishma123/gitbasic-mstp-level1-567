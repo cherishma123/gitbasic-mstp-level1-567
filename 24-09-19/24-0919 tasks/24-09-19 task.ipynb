{
 "cells": [
  {
   "cell_type": "markdown",
   "metadata": {},
   "source": [
    "## Tasks"
   ]
  },
  {
   "cell_type": "markdown",
   "metadata": {},
   "source": [
    "### 4. Calculate the square root of a given number "
   ]
  },
  {
   "cell_type": "code",
   "execution_count": 1,
   "metadata": {},
   "outputs": [
    {
     "name": "stdout",
     "output_type": "stream",
     "text": [
      "25\n",
      "5.0\n"
     ]
    }
   ],
   "source": [
    "import math\n",
    "def sqrt(n):\n",
    "    sqrt=(math.sqrt(n))\n",
    "    print(sqrt)\n",
    "n=int(input())\n",
    "sqrt(n)"
   ]
  },
  {
   "cell_type": "markdown",
   "metadata": {},
   "source": [
    "### 2. Check the number of digits in a given number"
   ]
  },
  {
   "cell_type": "code",
   "execution_count": 4,
   "metadata": {},
   "outputs": [
    {
     "name": "stdout",
     "output_type": "stream",
     "text": [
      "123\n",
      "3\n"
     ]
    }
   ],
   "source": [
    " def count(n):\n",
    "    count=0\n",
    "    while(n>0):\n",
    "        count=count+1\n",
    "        n=n//10\n",
    "    print(count)\n",
    "n=int(input())\n",
    "count(n)"
   ]
  },
  {
   "cell_type": "markdown",
   "metadata": {},
   "source": [
    "### 3. Check if the given number is a factor of 1000 "
   ]
  },
  {
   "cell_type": "code",
   "execution_count": 1,
   "metadata": {},
   "outputs": [
    {
     "name": "stdout",
     "output_type": "stream",
     "text": [
      "5\n",
      "yes\n"
     ]
    }
   ],
   "source": [
    "def factor(i):\n",
    "    if((100%i)==0):\n",
    "        print(\"yes\")\n",
    "    else:\n",
    "        print(\"not\")\n",
    "i=int(input())\n",
    "factor(i)"
   ]
  },
  {
   "cell_type": "markdown",
   "metadata": {},
   "source": [
    "### 5. python program to take values of length and breadth(width) of a rectangle from user and check if it is square or not."
   ]
  },
  {
   "cell_type": "code",
   "execution_count": 4,
   "metadata": {},
   "outputs": [
    {
     "name": "stdout",
     "output_type": "stream",
     "text": [
      "6\n",
      "4\n",
      "rectangle\n"
     ]
    }
   ],
   "source": [
    "def square(l,b):\n",
    "    if(l==b):\n",
    "        print(\"square\")\n",
    "    else:\n",
    "        print(\"rectangle\")\n",
    "l=int(input())\n",
    "b=int(input())\n",
    "square(l,b)"
   ]
  },
  {
   "cell_type": "markdown",
   "metadata": {},
   "source": [
    "### 6. A school has following rules for grading system:\n",
    "Below 25 - F\n",
    "25 to 45 - E\n",
    "45 to 50 - D\n",
    "50 to 60 - C\n",
    "60 to 80 - B\n",
    "Above 80 - A"
   ]
  },
  {
   "cell_type": "code",
   "execution_count": 8,
   "metadata": {},
   "outputs": [
    {
     "name": "stdout",
     "output_type": "stream",
     "text": [
      "65\n",
      "b\n"
     ]
    }
   ],
   "source": [
    "def marks(n):\n",
    "    if(n<25):\n",
    "        print(\"f\") \n",
    "    elif(n>25 and n<45):\n",
    "        print(\"e\")\n",
    "    elif(n>45 and n<50):\n",
    "        print(\"d\")\n",
    "    elif(n>50 and n<60):\n",
    "        print(\"c\")\n",
    "    elif(n>60 and n<80):\n",
    "        print(\"b\")\n",
    "    else:\n",
    "        print(\"a\")\n",
    "n=int(input())\n",
    "marks(n)\n",
    "                "
   ]
  },
  {
   "cell_type": "markdown",
   "metadata": {},
   "source": [
    "### 7.Take input of age of 3 people by user and determine oldest and youngest among them"
   ]
  },
  {
   "cell_type": "code",
   "execution_count": 1,
   "metadata": {},
   "outputs": [
    {
     "name": "stdout",
     "output_type": "stream",
     "text": [
      "60\n",
      "50\n",
      "20\n",
      "young 60\n",
      "oldest 20\n"
     ]
    }
   ],
   "source": [
    "ram=int(input())\n",
    "sam=int(input())\n",
    "mam=int(input())\n",
    "if ram>sam and ram>mam:\n",
    "    oldest=ram\n",
    "elif sam>ram and sam>mam:\n",
    "        oldest=sam\n",
    "else:\n",
    "    oldest=man\n",
    "if ram<sam and ram<mam:\n",
    "    oldest=ram\n",
    "elif sam<ram and sam<mam:\n",
    "        young=sam\n",
    "else:\n",
    "    young=mam\n",
    "print(\"young\",oldest)\n",
    "print(\"oldest\",young)"
   ]
  },
  {
   "cell_type": "markdown",
   "metadata": {},
   "source": [
    "### 8.A student will not be allowed to sit in exam if his/her attendance is less than 75%.\n",
    "Take following input from user Number of classes held,Number of classes attended.\n",
    "And print percentage of class attended Is student is allowed to sit in exam or not. \n"
   ]
  },
  {
   "cell_type": "code",
   "execution_count": 14,
   "metadata": {},
   "outputs": [
    {
     "name": "stdout",
     "output_type": "stream",
     "text": [
      "23\n",
      "22\n",
      "104.54545454545455\n",
      "allow to exam\n"
     ]
    }
   ],
   "source": [
    "def attendence(ch,ca):\n",
    "    a=((ch/ca)*100)\n",
    "    print(a)\n",
    "    if(a>75):\n",
    "        print(\"allow to exam\")\n",
    "    else:\n",
    "              print(\"not allowed to exam\")\n",
    "ch=int(input())\n",
    "ca=int(input())\n",
    "attendence(ch,ca)"
   ]
  },
  {
   "cell_type": "markdown",
   "metadata": {},
   "source": [
    "### 1.Check if the number exist in a given range (inputs: number(n), range(lower number and upper number)"
   ]
  },
  {
   "cell_type": "code",
   "execution_count": 4,
   "metadata": {},
   "outputs": [
    {
     "name": "stdout",
     "output_type": "stream",
     "text": [
      "10\n",
      "20\n",
      "3\n",
      "no\n"
     ]
    }
   ],
   "source": [
    " def range(a):\n",
    "        \n",
    "        if(lb<a<ub):\n",
    "            print(\"yes\")\n",
    "        else:\n",
    "            print(\"no\")\n",
    "lb=int(input())\n",
    "ub=int(input())\n",
    "a=int(input())\n",
    "range(a)"
   ]
  },
  {
   "cell_type": "markdown",
   "metadata": {},
   "source": []
  }
 ],
 "metadata": {
  "kernelspec": {
   "display_name": "Python 3",
   "language": "python",
   "name": "python3"
  }
 },
 "nbformat": 4,
 "nbformat_minor": 2
}
