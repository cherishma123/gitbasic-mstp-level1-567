{
 "cells": [
  {
   "cell_type": "markdown",
   "metadata": {},
   "source": [
    "# TASKS"
   ]
  },
  {
   "cell_type": "markdown",
   "metadata": {},
   "source": [
    "## Task.1 Write a Python program which accepts the user's first and last name and print them in reverse order with a space between them. "
   ]
  },
  {
   "cell_type": "code",
   "execution_count": 16,
   "metadata": {},
   "outputs": [
    {
     "name": "stdout",
     "output_type": "stream",
     "text": [
      "input your First name:cherry\n",
      "input your last  name:maraka\n",
      "maraka cherry\n"
     ]
    }
   ],
   "source": [
    "fname=input(\"input your First name:\")\n",
    "lname=input(\"input your last  name:\")\n",
    "print(lname+\" \"+fname)\n"
   ]
  },
  {
   "cell_type": "markdown",
   "metadata": {},
   "source": [
    "## Task.2 Write a Python program to accept a filename from the user and print the extension of that. "
   ]
  },
  {
   "cell_type": "code",
   "execution_count": 18,
   "metadata": {},
   "outputs": [
    {
     "name": "stdout",
     "output_type": "stream",
     "text": [
      "abc.java\n",
      "java\n"
     ]
    }
   ],
   "source": [
    "a=input()\n",
    "x=a.split('.')\n",
    "y=x[1]\n",
    "print(y)"
   ]
  },
  {
   "cell_type": "markdown",
   "metadata": {},
   "source": [
    "## Task.3 Write a Python program that accepts an integer (n) and computes the value of n+nn+nnn. "
   ]
  },
  {
   "cell_type": "code",
   "execution_count": 1,
   "metadata": {},
   "outputs": [
    {
     "name": "stdout",
     "output_type": "stream",
     "text": [
      "5\n",
      "55\n",
      "555\n",
      "615\n"
     ]
    }
   ],
   "source": [
    "n=int(input())\n",
    "nn=int(input())\n",
    "nnn=int(input())\n",
    "print(n+nn+nnn)"
   ]
  },
  {
   "cell_type": "markdown",
   "metadata": {},
   "source": [
    "##### Task.4 Write a Python program to get a single string from two given strings, separated by a space and swap the first two characters of each string. "
   ]
  },
  {
   "cell_type": "code",
   "execution_count": 12,
   "metadata": {},
   "outputs": [
    {
     "name": "stdout",
     "output_type": "stream",
     "text": [
      "abc xyz\n",
      "['abc', 'xyz']\n",
      "xyc abc\n"
     ]
    }
   ],
   "source": [
    "m=(input())\n",
    "r=m.split(\" \")\n",
    "print(r)\n",
    "r1=r[0].replace(\"ab\",\"xy\")\n",
    "r2=r[0].replace(\"xy\",\"ab\")\n",
    "print(r1,r2)"
   ]
  },
  {
   "cell_type": "markdown",
   "metadata": {},
   "source": [
    "## Task.5 Write a Python script that takes input from the user and displays that input back in upper and lower cases "
   ]
  },
  {
   "cell_type": "code",
   "execution_count": 2,
   "metadata": {},
   "outputs": [
    {
     "name": "stdout",
     "output_type": "stream",
     "text": [
      "how it workshow it worksfastly\n",
      "how it works how it worksfastly\n",
      "how it works HOW IT WORKSFASTLY\n"
     ]
    }
   ],
   "source": [
    "x_input=input(\"how it works\")\n",
    "print(\"how it works\",x_input.lower())\n",
    "print(\"how it works\",x_input.upper())"
   ]
  },
  {
   "cell_type": "markdown",
   "metadata": {},
   "source": [
    "## Task.6 Write a Python program to lowercase first n characters in a string "
   ]
  },
  {
   "cell_type": "code",
   "execution_count": 10,
   "metadata": {},
   "outputs": [
    {
     "name": "stdout",
     "output_type": "stream",
     "text": [
      "cherr\n"
     ]
    }
   ],
   "source": [
    "str1='CHERRY.COM'\n",
    "print(str1[:5].lower() + str1[5:1])"
   ]
  }
 ],
 "metadata": {
  "kernelspec": {
   "display_name": "Python 3",
   "language": "python",
   "name": "python3"
  },
  "language_info": {
   "codemirror_mode": {
    "name": "ipython",
    "version": 3
   },
   "file_extension": ".py",
   "mimetype": "text/x-python",
   "name": "python",
   "nbconvert_exporter": "python",
   "pygments_lexer": "ipython3",
   "version": "3.7.3"
  }
 },
 "nbformat": 4,
 "nbformat_minor": 2
}
