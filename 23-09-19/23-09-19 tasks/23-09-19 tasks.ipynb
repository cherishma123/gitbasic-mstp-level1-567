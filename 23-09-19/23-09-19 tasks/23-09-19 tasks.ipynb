{
 "cells": [
  {
   "cell_type": "markdown",
   "metadata": {},
   "source": [
    "## Tasks"
   ]
  },
  {
   "cell_type": "markdown",
   "metadata": {},
   "source": [
    "## Task  1.Write a Python program to get a string from a given string where all occurrences of its first char have been changed to '$', except the first char itself"
   ]
  },
  {
   "cell_type": "code",
   "execution_count": 11,
   "metadata": {},
   "outputs": [
    {
     "ename": "IndentationError",
     "evalue": "expected an indented block (<ipython-input-11-cf5c4240962b>, line 2)",
     "output_type": "error",
     "traceback": [
      "\u001b[1;36m  File \u001b[1;32m\"<ipython-input-11-cf5c4240962b>\"\u001b[1;36m, line \u001b[1;32m2\u001b[0m\n\u001b[1;33m    str1=str1.replace(char,'$')\u001b[0m\n\u001b[1;37m       ^\u001b[0m\n\u001b[1;31mIndentationError\u001b[0m\u001b[1;31m:\u001b[0m expected an indented block\n"
     ]
    }
   ],
   "source": [
    " def change_char(str1):\n",
    "char=str1[0]       \n",
    "str1=str1.replace(char,'$')\n",
    "str1=char+str[1:]\n",
    "return str1\n",
    "print(change_char('restart'))"
   ]
  },
  {
   "cell_type": "markdown",
   "metadata": {},
   "source": [
    "## Task 2.Take a string “Problem Solving Using Python” "
   ]
  },
  {
   "cell_type": "code",
   "execution_count": 6,
   "metadata": {},
   "outputs": [
    {
     "name": "stdout",
     "output_type": "stream",
     "text": [
      "28\n",
      "problem solving using python\n",
      "nohtyp gnisu gnivlos melborp\n",
      "['problem', 'solving', 'using', 'python']\n",
      "3\n",
      "problemsolvingusingpython\n"
     ]
    }
   ],
   "source": [
    "u=\"problem solving using python\"\n",
    "print(len(u))\n",
    "print(u.lower())\n",
    "print(u[-1::-1])\n",
    "print(u.split())\n",
    "print(u.count(\"o\"))\n",
    "print(\"problem\"+\"solving\"+\"using\"+\"python\")"
   ]
  },
  {
   "cell_type": "markdown",
   "metadata": {},
   "source": [
    " ## Task3.Take a string “python programming by python platforms\""
   ]
  },
  {
   "cell_type": "code",
   "execution_count": 5,
   "metadata": {},
   "outputs": [
    {
     "name": "stdout",
     "output_type": "stream",
     "text": [
      "2\n"
     ]
    }
   ],
   "source": [
    "t=\"python programming by python platform\"\n",
    "print(t.count(\"python\"))"
   ]
  },
  {
   "cell_type": "code",
   "execution_count": null,
   "metadata": {},
   "outputs": [],
   "source": []
  }
 ],
 "metadata": {
  "kernelspec": {
   "display_name": "Python 3",
   "language": "python",
   "name": "python3"
  },
  "language_info": {
   "codemirror_mode": {
    "name": "ipython",
    "version": 3
   },
   "file_extension": ".py",
   "mimetype": "text/x-python",
   "name": "python",
   "nbconvert_exporter": "python",
   "pygments_lexer": "ipython3",
   "version": "3.7.3"
  }
 },
 "nbformat": 4,
 "nbformat_minor": 2
}
