{
 "cells": [
  {
   "cell_type": "markdown",
   "metadata": {},
   "source": [
    "##  1.Write  Python program to generate and print a list and a dictionary of square of numbers between 1 and 15 (both included) "
   ]
  },
  {
   "cell_type": "code",
   "execution_count": 3,
   "metadata": {},
   "outputs": [
    {
     "name": "stdout",
     "output_type": "stream",
     "text": [
      "1\n",
      "4\n",
      "9\n",
      "16\n",
      "25\n",
      "36\n",
      "49\n",
      "64\n",
      "81\n",
      "100\n",
      "121\n",
      "144\n",
      "169\n",
      "196\n",
      "225\n",
      "{1: 1, 2: 4, 3: 9, 4: 16, 5: 25, 6: 36, 7: 49, 8: 64, 9: 81, 10: 100, 11: 121, 12: 144, 13: 169, 14: 196, 15: 225}\n"
     ]
    }
   ],
   "source": [
    "a={}\n",
    "n=15\n",
    "for i in range(1,n+1):\n",
    "    a[i]=i**2\n",
    "    print(a[i])\n",
    "print(a)    "
   ]
  },
  {
   "cell_type": "markdown",
   "metadata": {},
   "source": [
    " ## 2.Take 10 integer inputs from user and store them in a list and print them on screen."
   ]
  },
  {
   "cell_type": "code",
   "execution_count": 4,
   "metadata": {},
   "outputs": [
    {
     "name": "stdout",
     "output_type": "stream",
     "text": [
      "1 2 3 4 5 6 7 8 9 10\n",
      "[1, 2, 3, 4, 5, 6, 7, 8, 9, 10]\n"
     ]
    }
   ],
   "source": [
    "a=list(map(int,input().split()))\n",
    "print(a)"
   ]
  },
  {
   "cell_type": "markdown",
   "metadata": {},
   "source": [
    "## 3.l=[1,5,7,3,2,4,5,9],print list of all even numbers from the given list "
   ]
  },
  {
   "cell_type": "code",
   "execution_count": 4,
   "metadata": {},
   "outputs": [
    {
     "name": "stdout",
     "output_type": "stream",
     "text": [
      "[2, 4]\n"
     ]
    }
   ],
   "source": [
    "l=[1,5,7,3,2,4,5,9]\n",
    "l1=[]\n",
    "for i in l:\n",
    "    if(i%2==0):\n",
    "        l1.append(i)\n",
    "print(l1)"
   ]
  },
  {
   "cell_type": "markdown",
   "metadata": {},
   "source": [
    "## 4.Take 10 integer inputs from user and print the following:\n",
    "number of positive numbers\n",
    "number of negative numbers\n",
    "number of odd numbers\n",
    "number of even numbers\n",
    "number of 0s. using dictionaries\n",
    "a=[10,20,-5,-6,3,4,0,0,-2,8]\n",
    "d={p:5,n:3,e:6,odd:2,0:2}"
   ]
  },
  {
   "cell_type": "code",
   "execution_count": null,
   "metadata": {},
   "outputs": [],
   "source": [
    "n=list(map(int,input().split()))\n",
    "a={}\n",
    "for i in a:\n",
    "    if(a[i]>=0):\n",
    "        print(a[i],\"positive\")\n",
    "    elif(a[i]<0):\n",
    "        print(a[i],\"negative\")\n",
    "    elif(a[i]==0):\n",
    "        print(a[i],\"odd\")\n",
    "    elif(a[i]%2==0):\n",
    "        print(a[i],\"even\")\n",
    "    else:\n",
    "        print(a[i],\"od\")\n",
    "    \n",
    "    "
   ]
  },
  {
   "cell_type": "markdown",
   "metadata": {},
   "source": [
    "## 5.Ask user to give name and marks of 10 different students. Store them in dictionary."
   ]
  },
  {
   "cell_type": "code",
   "execution_count": 1,
   "metadata": {},
   "outputs": [
    {
     "name": "stdout",
     "output_type": "stream",
     "text": [
      "10\n",
      "namecherry\n",
      "marks100\n",
      "namechaithu\n",
      "marks90\n",
      "namechandu\n",
      "marks80\n",
      "nameadarsh\n",
      "marks70\n",
      "nameabhi\n",
      "marks80\n",
      "namepushpa\n",
      "marks88\n",
      "namekanchana\n",
      "marks98\n",
      "namemadhu\n",
      "marks88\n",
      "namelokesh\n",
      "marks80\n",
      "nameramu\n",
      "marks78\n",
      "{'cherry': '100', 'chaithu': '90', 'chandu': '80', 'adarsh': '70', 'abhi': '80', 'pushpa': '88', 'kanchana': '98', 'madhu': '88', 'lokesh': '80', 'ramu': '78'}\n"
     ]
    }
   ],
   "source": [
    "n=int(input())\n",
    "a={}\n",
    "for i in range(n):\n",
    "    name=input(\"name\")\n",
    "    marks=input(\"marks\")\n",
    "    a[name]=marks\n",
    "print(a)\n",
    "\n",
    "        "
   ]
  },
  {
   "cell_type": "markdown",
   "metadata": {},
   "source": [
    "## 6.Sort the dictionary created in previous example according to marks."
   ]
  },
  {
   "cell_type": "code",
   "execution_count": 4,
   "metadata": {},
   "outputs": [
    {
     "name": "stdout",
     "output_type": "stream",
     "text": [
      "3\n",
      "namecherry\n",
      "marks100\n",
      "namechandu\n",
      "marks90\n",
      "namechaithu\n",
      "marks80\n",
      "{'cherry': '100', 'chandu': '90', 'chaithu': '80'}\n",
      "['chaithu', 'chandu', 'cherry']\n",
      "chaithu : 80\n",
      "chandu : 90\n",
      "cherry : 100\n"
     ]
    }
   ],
   "source": [
    "n=int(input())\n",
    "a={}\n",
    "for i in range(1,n):\n",
    "    name=input(\"name\")\n",
    "    marks=input(\"marks\")\n",
    "    a[name]=marks\n",
    "print(a)\n",
    "b=sorted(a.keys())\n",
    "print(b)\n",
    "for i in b:\n",
    "    print(i,\":\",a[i])"
   ]
  },
  {
   "cell_type": "markdown",
   "metadata": {},
   "source": [
    "  ## 7.Use dictionary to store antonyms of words. \n",
    "E.g.- 'Right':'Left', 'Up':'Down', etc. Display all words and then ask user to enter a word and display antonym of it."
   ]
  },
  {
   "cell_type": "code",
   "execution_count": 8,
   "metadata": {},
   "outputs": [
    {
     "name": "stdout",
     "output_type": "stream",
     "text": [
      "['right', 'up']\n",
      "up\n",
      "down\n"
     ]
    }
   ],
   "source": [
    "p={\"right\":\"left\",\"up\":\"down\"}\n",
    "print(list(p.keys()))\n",
    "n=input()\n",
    "print(p.get(n))\n",
    "#print(g[n])\n"
   ]
  },
  {
   "cell_type": "markdown",
   "metadata": {},
   "source": [
    "##  8.Count the number of occurrence of each letter in word \"MISSISSIPPI\". Store count of every letter with the letter in a dictionary."
   ]
  },
  {
   "cell_type": "code",
   "execution_count": 9,
   "metadata": {},
   "outputs": [
    {
     "name": "stdout",
     "output_type": "stream",
     "text": [
      "S:4\n",
      "I:4\n",
      "M:1\n",
      "P:2\n"
     ]
    }
   ],
   "source": [
    "a=\"MISSISSIPPI\"\n",
    "b=list(set(a))\n",
    "for i in b:\n",
    "    print(i,a.count(i),sep=\":\")"
   ]
  },
  {
   "cell_type": "markdown",
   "metadata": {},
   "source": [
    "## 9.From the previous question, sort according to the number of letters."
   ]
  },
  {
   "cell_type": "code",
   "execution_count": 2,
   "metadata": {},
   "outputs": [
    {
     "name": "stdout",
     "output_type": "stream",
     "text": [
      "I:4\n",
      "M:1\n",
      "P:2\n",
      "S:4\n"
     ]
    }
   ],
   "source": [
    "a=\"MISSISSIPPI\"\n",
    "b=list(set(a))\n",
    "b=sorted(b)\n",
    "for i in b:\n",
    "    print(i,a.count(i),sep=\":\")"
   ]
  },
  {
   "cell_type": "code",
   "execution_count": null,
   "metadata": {},
   "outputs": [],
   "source": [
    "students=[]\n",
    "marks=[]\n",
    "num=int(input())\n",
    "for i in num:\n",
    "    name=input\n"
   ]
  }
 ],
 "metadata": {
  "kernelspec": {
   "display_name": "Python 3",
   "language": "python",
   "name": "python3"
  },
  "language_info": {
   "codemirror_mode": {
    "name": "ipython",
    "version": 3
   },
   "file_extension": ".py",
   "mimetype": "text/x-python",
   "name": "python",
   "nbconvert_exporter": "python",
   "pygments_lexer": "ipython3",
   "version": "3.7.3"
  }
 },
 "nbformat": 4,
 "nbformat_minor": 2
}
